{
 "cells": [
  {
   "cell_type": "code",
   "execution_count": 2,
   "id": "01e16bab",
   "metadata": {},
   "outputs": [
    {
     "data": {
      "text/html": [
       "\n",
       "        <iframe\n",
       "            width=\"100%\"\n",
       "            height=\"650\"\n",
       "            src=\"http://127.0.0.1:8050/\"\n",
       "            frameborder=\"0\"\n",
       "            allowfullscreen\n",
       "            \n",
       "        ></iframe>\n",
       "        "
      ],
      "text/plain": [
       "<IPython.lib.display.IFrame at 0x1f6b64956d0>"
      ]
     },
     "metadata": {},
     "output_type": "display_data"
    }
   ],
   "source": [
    "# dash pie all sites\n",
    "from dash import Dash, html, dcc\n",
    "import pandas as pd\n",
    "import plotly.express as px\n",
    "import os\n",
    "\n",
    "# Load data\n",
    "CSV_PATH = r\"C:\\Users\\whas3\\Desktop\\Data World\\My projects\\I-C\\spacex_launch_dash.csv\"\n",
    "df = pd.read_csv(CSV_PATH)\n",
    "\n",
    "#Column aliases & cleaning\n",
    "def pick(cols, *cands):\n",
    "    for c in cands:\n",
    "        if c in cols: return c\n",
    "    raise KeyError(f\"Missing columns: tried {cands}, found {list(cols)}\")\n",
    "\n",
    "SITE_COL = pick(df.columns, \"Launch Site\", \"LaunchSite\")\n",
    "CLASS_COL = pick(df.columns, \"class\", \"Class\", \"Outcome\", \"Success\")\n",
    "\n",
    "df[CLASS_COL] = pd.to_numeric(df[CLASS_COL], errors=\"coerce\").fillna(0).astype(int)\n",
    "\n",
    "#Success counts by site\n",
    "success_counts = (\n",
    "    df[df[CLASS_COL] == 1]\n",
    "      .groupby(SITE_COL)\n",
    "      .size()\n",
    "      .reset_index(name=\"Successes\")\n",
    "      .sort_values(\"Successes\", ascending=False)\n",
    ")\n",
    "\n",
    "#Figure\n",
    "fig = px.pie(\n",
    "    success_counts,\n",
    "    values=\"Successes\",\n",
    "    names=SITE_COL,\n",
    "    title=\"Launch Success Count by Site (All Sites)\",\n",
    "    hole=0.25\n",
    ")\n",
    "fig.update_traces(textposition=\"inside\", textinfo=\"percent+label\")\n",
    "fig.update_layout(margin=dict(l=30, r=30, t=60, b=30))\n",
    "\n",
    "\n",
    "\n",
    "#Dash app\n",
    "app = Dash(__name__)\n",
    "app.title = \"SpaceX Success Pie\"\n",
    "app.layout = html.Div(\n",
    "    style={\"maxWidth\": \"900px\", \"margin\": \"40px auto\", \"fontFamily\": \"system-ui, sans-serif\"},\n",
    "    children=[\n",
    "        html.H2(\"Launch Success Count for All Sites\"),\n",
    "        dcc.Graph(id=\"success-pie-chart\", figure=fig),\n",
    "        html.Div(\"Data source: spacex_launch_dash.csv\", style={\"color\": \"#666\", \"fontSize\": \"12px\"})\n",
    "    ]\n",
    ")\n",
    "\n",
    "if __name__ == \"__main__\":\n",
    "    #Run\n",
    "    app.run(debug=True, port=8050)\n"
   ]
  }
 ],
 "metadata": {
  "kernelspec": {
   "display_name": "Python 3",
   "language": "python",
   "name": "python3"
  },
  "language_info": {
   "codemirror_mode": {
    "name": "ipython",
    "version": 3
   },
   "file_extension": ".py",
   "mimetype": "text/x-python",
   "name": "python",
   "nbconvert_exporter": "python",
   "pygments_lexer": "ipython3",
   "version": "3.13.3"
  }
 },
 "nbformat": 4,
 "nbformat_minor": 5
}
